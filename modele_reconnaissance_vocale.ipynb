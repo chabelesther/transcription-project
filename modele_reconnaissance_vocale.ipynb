{
 "cells": [
  {
   "cell_type": "code",
   "execution_count": 13,
   "id": "517f44f6",
   "metadata": {},
   "outputs": [],
   "source": [
    "import os\n",
    "from pydub import AudioSegment\n",
    "\n",
    "from transformers import pipeline"
   ]
  },
  {
   "cell_type": "code",
   "execution_count": 14,
   "id": "33a380b8",
   "metadata": {},
   "outputs": [
    {
     "name": "stdout",
     "output_type": "stream",
     "text": [
      "Converti : common_voice_fr_39586361.mp3 → common_voice_fr_39586361.wav\n"
     ]
    }
   ],
   "source": [
    "# Chemin du fichier mp3\n",
    "mp3_path = r\"F:\\Python\\transcription-project\\audio mp3\\common_voice_fr_39586361.mp3\"\n",
    "\n",
    "# Extraire le nom de base sans extension\n",
    "filename = os.path.splitext(os.path.basename(mp3_path))[0]\n",
    "\n",
    "# Créer le chemin de sortie avec extension .wav\n",
    "wav_filename = filename + \".wav\"\n",
    "wav_path = os.path.join(os.getcwd(), wav_filename)  # dossier courant, tu peux changer\n",
    "\n",
    "# Conversion MP3 → WAV\n",
    "audio = AudioSegment.from_mp3(mp3_path)\n",
    "audio.export(wav_path, format=\"wav\")\n",
    "\n",
    "# Affichage\n",
    "print(f\"Converti : {os.path.basename(mp3_path)} → {wav_filename}\")\n"
   ]
  },
  {
   "cell_type": "code",
   "execution_count": 15,
   "id": "64f2a29e",
   "metadata": {},
   "outputs": [
    {
     "name": "stderr",
     "output_type": "stream",
     "text": [
      "c:\\Users\\CHESTHER\\AppData\\Local\\Programs\\Python\\Python313\\Lib\\site-packages\\huggingface_hub\\file_download.py:144: UserWarning: `huggingface_hub` cache-system uses symlinks by default to efficiently store duplicated files but your machine does not support them in C:\\Users\\CHESTHER\\.cache\\huggingface\\hub\\models--openai--whisper-small. Caching files will still work but in a degraded version that might require more space on your disk. This warning can be disabled by setting the `HF_HUB_DISABLE_SYMLINKS_WARNING` environment variable. For more details, see https://huggingface.co/docs/huggingface_hub/how-to-cache#limitations.\n",
      "To support symlinks on Windows, you either need to activate Developer Mode or to run Python as an administrator. In order to activate developer mode, see this article: https://docs.microsoft.com/en-us/windows/apps/get-started/enable-your-device-for-development\n",
      "  warnings.warn(message)\n",
      "Device set to use cpu\n"
     ]
    }
   ],
   "source": [
    "# Charger le modèle à utiliser\n",
    "pipe = pipeline(\n",
    "    \"automatic-speech-recognition\",\n",
    "    model=\"openai/whisper-small\",\n",
    "    framework=\"pt\",\n",
    "    generate_kwargs={\"language\": \"fr\"}\n",
    ")"
   ]
  },
  {
   "cell_type": "code",
   "execution_count": 16,
   "id": "fcd4bd58",
   "metadata": {},
   "outputs": [
    {
     "name": "stderr",
     "output_type": "stream",
     "text": [
      "c:\\Users\\CHESTHER\\AppData\\Local\\Programs\\Python\\Python313\\Lib\\site-packages\\transformers\\models\\whisper\\generation_whisper.py:573: FutureWarning: The input name `inputs` is deprecated. Please make sure to use `input_features` instead.\n",
      "  warnings.warn(\n",
      "You have passed language=fr, but also have set `forced_decoder_ids` to [[1, None], [2, 50359]] which creates a conflict. `forced_decoder_ids` will be ignored in favor of language=fr.\n"
     ]
    },
    {
     "name": "stdout",
     "output_type": "stream",
     "text": [
      " Il traite de la question de la surpopulation humaine.\n"
     ]
    }
   ],
   "source": [
    "# Envoyer l'emplacement du fichier audio\n",
    "result = pipe(wav_path)\n",
    "print(result['text'])"
   ]
  }
 ],
 "metadata": {
  "kernelspec": {
   "display_name": "Python 3",
   "language": "python",
   "name": "python3"
  },
  "language_info": {
   "codemirror_mode": {
    "name": "ipython",
    "version": 3
   },
   "file_extension": ".py",
   "mimetype": "text/x-python",
   "name": "python",
   "nbconvert_exporter": "python",
   "pygments_lexer": "ipython3",
   "version": "3.13.0"
  }
 },
 "nbformat": 4,
 "nbformat_minor": 5
}
